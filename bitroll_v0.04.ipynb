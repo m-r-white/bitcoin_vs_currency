{
 "cells": [
  {
   "cell_type": "code",
   "execution_count": 1,
   "metadata": {
    "collapsed": true
   },
   "outputs": [],
   "source": [
    "# Imports\n",
    "import os\n",
    "import time\n",
    "from datetime import datetime\n",
    "import csv\n",
    "import requests\n",
    "import json\n",
    "import pandas as pd\n",
    "import numpy as np\n",
    "import seaborn as sns\n",
    "import matplotlib.pyplot as plt\n",
    "%matplotlib inline\n",
    "\n",
    "\n",
    "pd.set_option('display.max_colwidth', -1)\n",
    "pd.set_option('display.max_rows', None)\n",
    "pd.set_option('display.max_columns', None)"
   ]
  },
  {
   "cell_type": "markdown",
   "metadata": {},
   "source": [
    "# Get data function"
   ]
  },
  {
   "cell_type": "code",
   "execution_count": null,
   "metadata": {
    "collapsed": true
   },
   "outputs": [],
   "source": [
    "# TODO: Make get_price function run off a list of coins\n",
    "# TODO: Write header only once, on first loop"
   ]
  },
  {
   "cell_type": "code",
   "execution_count": 4,
   "metadata": {
    "collapsed": true
   },
   "outputs": [],
   "source": [
    "def get_price():\n",
    "    ### Returns price & social media scores for list of coins\n",
    "    \n",
    "    # bitcoin price\n",
    "    _1 = requests.get('https://min-api.cryptocompare.com/data/pricemultifull?fsyms=BTC&tsyms=USD')\n",
    "\n",
    "    # bitcoin social media metrics\n",
    "    _2 = requests.get('https://www.cryptocompare.com/api/data/socialstats/?id=1182')\n",
    "\n",
    "    # ethereum price\n",
    "    _3 = requests.get('https://min-api.cryptocompare.com/data/pricemultifull?fsyms=ETH&tsyms=USD')\n",
    "\n",
    "    # ethereum social media metrics\n",
    "    _4 = requests.get('https://www.cryptocompare.com/api/data/socialstats/?id=7605')\n",
    "\n",
    "    # IOTA price\n",
    "    _5 = requests.get('https://min-api.cryptocompare.com/data/pricemultifull?fsyms=IOT&tsyms=USD')\n",
    "\n",
    "    # IOTA social media metrics\n",
    "    _6 = requests.get('https://www.cryptocompare.com/api/data/socialstats/?id=127356')\n",
    "\n",
    "#     # bitcoin cash price\n",
    "#     _7 = requests.get('https://min-api.cryptocompare.com/data/pricemultifull?fsyms=BCH&tsyms=USD')\n",
    "\n",
    "#     # bitcoin cash social media metrics\n",
    "#     _8 = requests.get('https://www.cryptocompare.com/api/data/socialstats/?id=202330')\n",
    "\n",
    "    # litecoin price\n",
    "    _9 = requests.get('https://min-api.cryptocompare.com/data/pricemultifull?fsyms=LTC&tsyms=USD')\n",
    "\n",
    "    # litecoin social media metrics\n",
    "    _10 = requests.get('https://www.cryptocompare.com/api/data/socialstats/?id=29758')\n",
    "\n",
    "    if _2.status_code == 200:\n",
    "        try:\n",
    "            _btc_price = json.loads(_1.content)\n",
    "            _btc_sms = json.loads(_2.content)\n",
    "            _eth_price = json.loads(_3.content)\n",
    "            _eth_sms = json.loads(_4.content)\n",
    "            _iot_price = json.loads(_5.content)\n",
    "            _iot_sms = json.loads(_6.content)\n",
    "            _bch_price = 'NaN' #json.loads(_7.content)\n",
    "            _bch_sms = 'NaN' #json.loads(_8.content)\n",
    "            _ltc_price = json.loads(_9.content)\n",
    "            _ltc_sms = json.loads(_10.content)\n",
    "            \n",
    "            # Build DataFrame\n",
    "            global df\n",
    "            df = pd.DataFrame(columns=['time',\n",
    "                     'BTC_Price', 'BTC_Total', 'BTC_CryptoCompare', 'BTC_Twitter', 'BTC_Reddit', 'BTC_Facebook', 'BTC_GitHub',\n",
    "                     'ETH_Price', 'ETH_Total', 'ETH_CryptoCompare', 'ETH_Twitter', 'ETH_Reddit', 'ETH_Facebook', 'ETH_GitHub',\n",
    "                     'IOT_Price', 'IOT_Total', 'IOT_CryptoCompare', 'IOT_Twitter', 'IOT_Reddit', 'IOT_Facebook', 'IOT_GitHub',\n",
    "                     'BCH_Price', 'BCH_Total', 'BCH_CryptoCompare', 'BCH_Twitter', 'BCH_Reddit', 'BCH_Facebook', 'BCH_GitHub',\n",
    "                     'LTC_Price', 'LTC_Total', 'LTC_CryptoCompare', 'LTC_Twitter', 'LTC_Reddit', 'LTC_Facebook', 'LTC_GitHub'])           \n",
    "\n",
    "\n",
    "            # Append data to dataframe\n",
    "            df = df.append({'time': time.strftime(\"%Y_%m%d_%H%M%S\"),\n",
    "                                 'BTC_Price': _btc_price['DISPLAY']['BTC']['USD']['PRICE'],\n",
    "                                 'BTC_Total': _btc_sms['Data']['General']['Points'],\n",
    "                                 'BTC_CryptoCompare': _btc_sms['Data']['CryptoCompare']['Points'],\n",
    "                                 'BTC_Twitter': _btc_sms['Data']['Twitter']['Points'],\n",
    "                                 'BTC_Reddit': _btc_sms['Data']['Reddit']['Points'],\n",
    "                                 'BTC_Facebook': _btc_sms['Data']['Facebook']['Points'],\n",
    "                                 'BTC_GitHub': _btc_sms['Data']['CodeRepository']['Points'],\n",
    "\n",
    "                                 'ETH_Price': _eth_price['DISPLAY']['ETH']['USD']['PRICE'], \n",
    "                                 'ETH_Total': _eth_sms['Data']['General']['Points'], \n",
    "                                 'ETH_CryptoCompare': _eth_sms['Data']['CryptoCompare']['Points'], \n",
    "                                 'ETH_Twitter': _eth_sms['Data']['Twitter']['Points'], \n",
    "                                 'ETH_Reddit': _eth_sms['Data']['Reddit']['Points'], \n",
    "                                 'ETH_Facebook': _eth_sms['Data']['Facebook']['Points'], \n",
    "                                 'ETH_GitHub': _eth_sms['Data']['CodeRepository']['Points'],\n",
    "\n",
    "                                 'IOT_Price': _iot_price['DISPLAY']['IOT']['USD']['PRICE'], \n",
    "                                 'IOT_Total': _iot_sms['Data']['General']['Points'], \n",
    "                                 'IOT_CryptoCompare': _iot_sms['Data']['CryptoCompare']['Points'], \n",
    "                                 'IOT_Twitter': _iot_sms['Data']['Twitter']['Points'], \n",
    "                                 'IOT_Reddit': _iot_sms['Data']['Reddit']['Points'], \n",
    "                                 'IOT_Facebook': _iot_sms['Data']['Facebook']['Points'], \n",
    "                                 'IOT_GitHub': _iot_sms['Data']['CodeRepository']['Points'],\n",
    "\n",
    "                                 'BCH_Price': _bch_price['DISPLAY']['BCH']['USD']['PRICE'], \n",
    "                                 'BCH_Total': _bch_sms['Data']['General']['Points'], \n",
    "                                 'BCH_CryptoCompare': _bch_sms['Data']['CodeRepository']['Points'], \n",
    "                                 'BCH_Twitter': _bch_sms['Data']['Twitter']['Points'], \n",
    "                                 'BCH_Reddit': _bch_sms['Data']['Reddit']['Points'], \n",
    "                                 'BCH_Facebook': _bch_sms['Data']['Facebook']['Points'], \n",
    "                                 'BCH_GitHub': _bch_sms['Data']['CodeRepository']['Points'],\n",
    "\n",
    "                                 'LTC_Price': _ltc_price['DISPLAY']['LTC']['USD']['PRICE'], \n",
    "                                 'LTC_Total': _ltc_sms['Data']['CodeRepository']['Points'], \n",
    "                                 'LTC_CryptoCompare': _ltc_sms['Data']['CodeRepository']['Points'], \n",
    "                                 'LTC_Twitter': _ltc_sms['Data']['CodeRepository']['Points'], \n",
    "                                 'LTC_Reddit': _ltc_sms['Data']['CodeRepository']['Points'], \n",
    "                                 'LTC_Facebook': _ltc_sms['Data']['CodeRepository']['Points'], \n",
    "                                 'LTC_GitHub': _ltc_sms['Data']['CodeRepository']['Points']}, ignore_index=True)\n",
    "\n",
    "            # Append data to csv file as a row\n",
    "            with open('./crypto-ticker000000.csv', 'a') as csvfile:\n",
    "                df.to_csv(csvfile, header=False)\n",
    "\n",
    "        except:\n",
    "            print(\"Error\")\n",
    "    else:\n",
    "        print(\"No connection\")"
   ]
  },
  {
   "cell_type": "code",
   "execution_count": 5,
   "metadata": {},
   "outputs": [
    {
     "name": "stdout",
     "output_type": "stream",
     "text": [
      "Error\n"
     ]
    }
   ],
   "source": [
    "# , header=False\n",
    "get_price()"
   ]
  },
  {
   "cell_type": "code",
   "execution_count": null,
   "metadata": {
    "collapsed": true
   },
   "outputs": [],
   "source": [
    "df.head()"
   ]
  },
  {
   "cell_type": "markdown",
   "metadata": {},
   "source": [
    "# Timed function"
   ]
  },
  {
   "cell_type": "code",
   "execution_count": null,
   "metadata": {},
   "outputs": [],
   "source": [
    "from apscheduler.schedulers.background import BackgroundScheduler\n",
    "\n",
    "\n",
    "def tick():\n",
    "    print('Tick! The time is: %s' % datetime.now())\n",
    "    get_price()\n",
    "\n",
    "\n",
    "if __name__ == '__main__':\n",
    "    scheduler = BackgroundScheduler()\n",
    "    scheduler.add_job(tick, 'interval', seconds=20)\n",
    "    scheduler.start()\n",
    "    print('Press Ctrl+{0} to exit'.format('Break' if os.name == 'nt' else 'C'))\n",
    "    \n",
    "    try:\n",
    "        # This is here to simulate application activity (which keeps the main thread alive).\n",
    "        while True:\n",
    "            time.sleep(15)\n",
    "    except (KeyboardInterrupt, SystemExit):\n",
    "        # Not strictly necessary if daemonic mode is enabled but should be done if possible\n",
    "        scheduler.shutdown()"
   ]
  },
  {
   "cell_type": "code",
   "execution_count": null,
   "metadata": {
    "collapsed": true
   },
   "outputs": [],
   "source": []
  }
 ],
 "metadata": {
  "kernelspec": {
   "display_name": "Python 3",
   "language": "python",
   "name": "python3"
  },
  "language_info": {
   "codemirror_mode": {
    "name": "ipython",
    "version": 3
   },
   "file_extension": ".py",
   "mimetype": "text/x-python",
   "name": "python",
   "nbconvert_exporter": "python",
   "pygments_lexer": "ipython3",
   "version": "3.6.1"
  }
 },
 "nbformat": 4,
 "nbformat_minor": 2
}
